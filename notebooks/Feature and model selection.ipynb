{
 "cells": [
  {
   "cell_type": "markdown",
   "metadata": {},
   "source": [
    "# Feature and model selection\n",
    "\n",
    "*Lukas Vlcek*\n",
    "\n",
    "Bayesian and minimum description length approach\n",
    "\n",
    "* Select features that provide the most discriminative information\n",
    "* Select models that best explain the target data, balancing likelihood of generating target data with model complexity. The more complex the more distributions it can generate and the more difficult it is to falsify it.\n",
    "\n",
    "* Start by selecting from finite candiate sets of features and models\n",
    "* Can the design of the set be automated?"
   ]
  },
  {
   "cell_type": "code",
   "execution_count": 2,
   "metadata": {},
   "outputs": [],
   "source": [
    "%matplotlib inline\n",
    "import numpy as np\n",
    "import matplotlib.pyplot as plt"
   ]
  },
  {
   "cell_type": "markdown",
   "metadata": {},
   "source": [
    "**Asymptotic expressions**\n",
    "\n",
    "Only take into account number of samples and dimensionality of the space\n",
    "\n",
    "1. Feature complexity for a histogram with k+1 bins and n samples (logarithm of possible distringuishable distributions)\n",
    "\n",
    "$$\\frac{k}{2}\\ln n$$\n",
    "\n",
    "$$\\sqrt n ^k$$\n",
    "\n",
    "2. Model complexity of model with $p$ parameters\n",
    "\n",
    "$$\\frac{p}{2}\\ln n$$\n",
    "\n",
    "$$\\sqrt n ^p$$\n"
   ]
  },
  {
   "cell_type": "code",
   "execution_count": null,
   "metadata": {},
   "outputs": [],
   "source": [
    "# Example\n",
    "n = 400\n",
    "k = "
   ]
  },
  {
   "cell_type": "markdown",
   "metadata": {},
   "source": [
    "**Specific expressions**\n",
    "\n",
    "Take into account the actual forms of the models and features"
   ]
  },
  {
   "cell_type": "code",
   "execution_count": null,
   "metadata": {},
   "outputs": [],
   "source": []
  }
 ],
 "metadata": {
  "kernelspec": {
   "display_name": "Python 3",
   "language": "python",
   "name": "python3"
  },
  "language_info": {
   "codemirror_mode": {
    "name": "ipython",
    "version": 3
   },
   "file_extension": ".py",
   "mimetype": "text/x-python",
   "name": "python",
   "nbconvert_exporter": "python",
   "pygments_lexer": "ipython3",
   "version": "3.6.8"
  }
 },
 "nbformat": 4,
 "nbformat_minor": 2
}
